{
 "cells": [
  {
   "cell_type": "code",
   "execution_count": 1,
   "metadata": {},
   "outputs": [],
   "source": [
    "import os\n",
    "import pandas as pd\n",
    "import numpy as np\n",
    "import gc\n",
    "import matplotlib.pyplot as plt\n",
    "import tensorflow as tf\n",
    "from tensorflow.keras import layers\n",
    "from tensorflow import keras\n",
    "from scipy import stats\n",
    "import random\n",
    "import seaborn as sns\n",
    "import matplotlib.pyplot as plt\n",
    "from scipy.stats import *\n",
    "import warnings\n",
    "\n",
    "import pickle\n",
    "import lightgbm as lgb\n",
    "from sklearn.model_selection import train_test_split"
   ]
  },
  {
   "cell_type": "code",
   "execution_count": 2,
   "metadata": {},
   "outputs": [
    {
     "name": "stdout",
     "output_type": "stream",
     "text": [
      "CPU times: total: 547 ms\n",
      "Wall time: 545 ms\n"
     ]
    },
    {
     "data": {
      "text/html": [
       "<div>\n",
       "<style scoped>\n",
       "    .dataframe tbody tr th:only-of-type {\n",
       "        vertical-align: middle;\n",
       "    }\n",
       "\n",
       "    .dataframe tbody tr th {\n",
       "        vertical-align: top;\n",
       "    }\n",
       "\n",
       "    .dataframe thead th {\n",
       "        text-align: right;\n",
       "    }\n",
       "</style>\n",
       "<table border=\"1\" class=\"dataframe\">\n",
       "  <thead>\n",
       "    <tr style=\"text-align: right;\">\n",
       "      <th></th>\n",
       "      <th>investment_id</th>\n",
       "      <th>time_id</th>\n",
       "      <th>f_0</th>\n",
       "      <th>f_1</th>\n",
       "      <th>f_2</th>\n",
       "      <th>f_3</th>\n",
       "      <th>f_4</th>\n",
       "      <th>f_5</th>\n",
       "      <th>f_6</th>\n",
       "      <th>f_7</th>\n",
       "      <th>...</th>\n",
       "      <th>f_291</th>\n",
       "      <th>f_292</th>\n",
       "      <th>f_293</th>\n",
       "      <th>f_294</th>\n",
       "      <th>f_295</th>\n",
       "      <th>f_296</th>\n",
       "      <th>f_297</th>\n",
       "      <th>f_298</th>\n",
       "      <th>f_299</th>\n",
       "      <th>target</th>\n",
       "    </tr>\n",
       "  </thead>\n",
       "  <tbody>\n",
       "    <tr>\n",
       "      <th>0</th>\n",
       "      <td>1</td>\n",
       "      <td>0</td>\n",
       "      <td>0.932617</td>\n",
       "      <td>0.113708</td>\n",
       "      <td>-0.402100</td>\n",
       "      <td>0.378418</td>\n",
       "      <td>-0.203979</td>\n",
       "      <td>-0.413574</td>\n",
       "      <td>0.965820</td>\n",
       "      <td>1.230469</td>\n",
       "      <td>...</td>\n",
       "      <td>-1.095703</td>\n",
       "      <td>0.200073</td>\n",
       "      <td>0.819336</td>\n",
       "      <td>0.941406</td>\n",
       "      <td>-0.086792</td>\n",
       "      <td>-1.086914</td>\n",
       "      <td>-1.044922</td>\n",
       "      <td>-0.287598</td>\n",
       "      <td>0.321533</td>\n",
       "      <td>-0.300781</td>\n",
       "    </tr>\n",
       "    <tr>\n",
       "      <th>1</th>\n",
       "      <td>2</td>\n",
       "      <td>0</td>\n",
       "      <td>0.811035</td>\n",
       "      <td>-0.514160</td>\n",
       "      <td>0.742188</td>\n",
       "      <td>-0.616699</td>\n",
       "      <td>-0.194214</td>\n",
       "      <td>1.771484</td>\n",
       "      <td>1.427734</td>\n",
       "      <td>1.133789</td>\n",
       "      <td>...</td>\n",
       "      <td>0.912598</td>\n",
       "      <td>-0.734375</td>\n",
       "      <td>0.819336</td>\n",
       "      <td>0.941406</td>\n",
       "      <td>-0.387695</td>\n",
       "      <td>-1.086914</td>\n",
       "      <td>-0.929688</td>\n",
       "      <td>-0.974121</td>\n",
       "      <td>-0.343506</td>\n",
       "      <td>-0.231079</td>\n",
       "    </tr>\n",
       "    <tr>\n",
       "      <th>2</th>\n",
       "      <td>6</td>\n",
       "      <td>0</td>\n",
       "      <td>0.394043</td>\n",
       "      <td>0.615723</td>\n",
       "      <td>0.567871</td>\n",
       "      <td>-0.607910</td>\n",
       "      <td>0.068909</td>\n",
       "      <td>-1.083008</td>\n",
       "      <td>0.979492</td>\n",
       "      <td>-1.125977</td>\n",
       "      <td>...</td>\n",
       "      <td>0.912598</td>\n",
       "      <td>-0.551758</td>\n",
       "      <td>-1.220703</td>\n",
       "      <td>-1.060547</td>\n",
       "      <td>-0.219116</td>\n",
       "      <td>-1.086914</td>\n",
       "      <td>-0.612305</td>\n",
       "      <td>-0.113953</td>\n",
       "      <td>0.243652</td>\n",
       "      <td>0.568848</td>\n",
       "    </tr>\n",
       "    <tr>\n",
       "      <th>3</th>\n",
       "      <td>7</td>\n",
       "      <td>0</td>\n",
       "      <td>-2.343750</td>\n",
       "      <td>-0.011871</td>\n",
       "      <td>1.875000</td>\n",
       "      <td>-0.606445</td>\n",
       "      <td>-0.586914</td>\n",
       "      <td>-0.815918</td>\n",
       "      <td>0.778320</td>\n",
       "      <td>0.299072</td>\n",
       "      <td>...</td>\n",
       "      <td>0.912598</td>\n",
       "      <td>-0.266357</td>\n",
       "      <td>-1.220703</td>\n",
       "      <td>0.941406</td>\n",
       "      <td>-0.608887</td>\n",
       "      <td>0.104919</td>\n",
       "      <td>-0.783203</td>\n",
       "      <td>1.151367</td>\n",
       "      <td>-0.773438</td>\n",
       "      <td>-1.064453</td>\n",
       "    </tr>\n",
       "    <tr>\n",
       "      <th>4</th>\n",
       "      <td>8</td>\n",
       "      <td>0</td>\n",
       "      <td>0.842285</td>\n",
       "      <td>-0.262939</td>\n",
       "      <td>2.330078</td>\n",
       "      <td>-0.583496</td>\n",
       "      <td>-0.618164</td>\n",
       "      <td>-0.742676</td>\n",
       "      <td>-0.946777</td>\n",
       "      <td>1.230469</td>\n",
       "      <td>...</td>\n",
       "      <td>0.912598</td>\n",
       "      <td>-0.741211</td>\n",
       "      <td>-1.220703</td>\n",
       "      <td>0.941406</td>\n",
       "      <td>-0.588379</td>\n",
       "      <td>0.104919</td>\n",
       "      <td>0.753418</td>\n",
       "      <td>1.345703</td>\n",
       "      <td>-0.737793</td>\n",
       "      <td>-0.531738</td>\n",
       "    </tr>\n",
       "  </tbody>\n",
       "</table>\n",
       "<p>5 rows × 303 columns</p>\n",
       "</div>"
      ],
      "text/plain": [
       "   investment_id  time_id       f_0       f_1       f_2       f_3       f_4  \\\n",
       "0              1        0  0.932617  0.113708 -0.402100  0.378418 -0.203979   \n",
       "1              2        0  0.811035 -0.514160  0.742188 -0.616699 -0.194214   \n",
       "2              6        0  0.394043  0.615723  0.567871 -0.607910  0.068909   \n",
       "3              7        0 -2.343750 -0.011871  1.875000 -0.606445 -0.586914   \n",
       "4              8        0  0.842285 -0.262939  2.330078 -0.583496 -0.618164   \n",
       "\n",
       "        f_5       f_6       f_7  ...     f_291     f_292     f_293     f_294  \\\n",
       "0 -0.413574  0.965820  1.230469  ... -1.095703  0.200073  0.819336  0.941406   \n",
       "1  1.771484  1.427734  1.133789  ...  0.912598 -0.734375  0.819336  0.941406   \n",
       "2 -1.083008  0.979492 -1.125977  ...  0.912598 -0.551758 -1.220703 -1.060547   \n",
       "3 -0.815918  0.778320  0.299072  ...  0.912598 -0.266357 -1.220703  0.941406   \n",
       "4 -0.742676 -0.946777  1.230469  ...  0.912598 -0.741211 -1.220703  0.941406   \n",
       "\n",
       "      f_295     f_296     f_297     f_298     f_299    target  \n",
       "0 -0.086792 -1.086914 -1.044922 -0.287598  0.321533 -0.300781  \n",
       "1 -0.387695 -1.086914 -0.929688 -0.974121 -0.343506 -0.231079  \n",
       "2 -0.219116 -1.086914 -0.612305 -0.113953  0.243652  0.568848  \n",
       "3 -0.608887  0.104919 -0.783203  1.151367 -0.773438 -1.064453  \n",
       "4 -0.588379  0.104919  0.753418  1.345703 -0.737793 -0.531738  \n",
       "\n",
       "[5 rows x 303 columns]"
      ]
     },
     "execution_count": 2,
     "metadata": {},
     "output_type": "execute_result"
    }
   ],
   "source": [
    "%%time\n",
    "n_features = 300\n",
    "features = [f'f_{i}' for i in range(n_features)]\n",
    "train = pd.read_pickle('../input/ubiquant-market-prediction-half-precision-pickle/train.pkl')\n",
    "train.head()"
   ]
  },
  {
   "cell_type": "code",
   "execution_count": 3,
   "metadata": {},
   "outputs": [
    {
     "data": {
      "text/plain": [
       "(3141410, 303)"
      ]
     },
     "execution_count": 3,
     "metadata": {},
     "output_type": "execute_result"
    }
   ],
   "source": [
    "train.shape"
   ]
  },
  {
   "cell_type": "code",
   "execution_count": 4,
   "metadata": {},
   "outputs": [
    {
     "data": {
      "text/plain": [
       "0    1\n",
       "1    2\n",
       "2    6\n",
       "3    7\n",
       "4    8\n",
       "Name: investment_id, dtype: uint16"
      ]
     },
     "execution_count": 4,
     "metadata": {},
     "output_type": "execute_result"
    }
   ],
   "source": [
    "investment_id = train.pop(\"investment_id\")\n",
    "investment_id.head()"
   ]
  },
  {
   "cell_type": "code",
   "execution_count": 5,
   "metadata": {},
   "outputs": [],
   "source": [
    "_ = train.pop(\"time_id\")"
   ]
  },
  {
   "cell_type": "code",
   "execution_count": 6,
   "metadata": {},
   "outputs": [
    {
     "data": {
      "text/plain": [
       "0   -0.300781\n",
       "1   -0.231079\n",
       "2    0.568848\n",
       "3   -1.064453\n",
       "4   -0.531738\n",
       "Name: target, dtype: float16"
      ]
     },
     "execution_count": 6,
     "metadata": {},
     "output_type": "execute_result"
    }
   ],
   "source": [
    "y = train.pop(\"target\")\n",
    "y.head()"
   ]
  },
  {
   "cell_type": "code",
   "execution_count": 7,
   "metadata": {},
   "outputs": [
    {
     "name": "stdout",
     "output_type": "stream",
     "text": [
      "CPU times: total: 922 ms\n",
      "Wall time: 876 ms\n"
     ]
    }
   ],
   "source": [
    "%%time\n",
    "investment_ids = list(investment_id.unique())\n",
    "investment_id_size = len(investment_ids) + 1\n",
    "investment_id_lookup_layer = layers.IntegerLookup(max_tokens=investment_id_size)\n",
    "investment_id_lookup_layer.adapt(pd.DataFrame({\"investment_ids\":investment_ids}))"
   ]
  },
  {
   "cell_type": "code",
   "execution_count": 8,
   "metadata": {},
   "outputs": [],
   "source": [
    "# Making Tesorflow dataset\n",
    "import tensorflow as tf\n",
    "def preprocess(X, y):\n",
    "    return X, y\n",
    "def make_dataset(feature, investment_id, y, batch_size=1024, mode=\"train\"):\n",
    "    ds = tf.data.Dataset.from_tensor_slices(((investment_id, feature), y))\n",
    "    ds = ds.map(preprocess)\n",
    "    if mode == \"train\":\n",
    "        ds = ds.shuffle(4096)\n",
    "    ds = ds.batch(batch_size).cache().prefetch(tf.data.experimental.AUTOTUNE)\n",
    "    return ds"
   ]
  },
  {
   "cell_type": "code",
   "execution_count": 9,
   "metadata": {},
   "outputs": [],
   "source": [
    "def get_model():\n",
    "    investment_id_inputs = tf.keras.Input((1, ), dtype=tf.uint16)\n",
    "    features_inputs = tf.keras.Input((300, ), dtype=tf.float16)\n",
    "    \n",
    "    investment_id_x = investment_id_lookup_layer(investment_id_inputs)\n",
    "    investment_id_x = layers.Embedding(investment_id_size, 32, input_length=1)(investment_id_x)\n",
    "    investment_id_x = layers.Reshape((-1, ))(investment_id_x)\n",
    "    investment_id_x = layers.Dense(64, activation='swish')(investment_id_x)\n",
    "    investment_id_x = layers.Dense(64, activation='swish')(investment_id_x)\n",
    "    investment_id_x = layers.Dense(64, activation='swish')(investment_id_x)\n",
    "    investment_id_x = layers.Dense(64, activation='swish')(investment_id_x)\n",
    "\n",
    "    \n",
    "    feature_x = layers.Dense(256, activation='swish')(features_inputs)\n",
    "    feature_x = layers.Dense(256, activation='swish')(feature_x)\n",
    "    feature_x = layers.Dense(256, activation='swish')(feature_x)\n",
    "    feature_x = layers.Dense(256, activation='swish')(feature_x)\n",
    "    \n",
    "    x = layers.Concatenate(axis=1)([investment_id_x, feature_x])\n",
    "    x = layers.Dense(512, activation='swish', kernel_regularizer=\"l2\")(x)\n",
    "    x = layers.Dense(128, activation='swish', kernel_regularizer=\"l2\")(x)\n",
    "    x = layers.Dense(32, activation='swish', kernel_regularizer=\"l2\")(x)\n",
    "\n",
    "\n",
    "\n",
    "    output = layers.Dense(1)(x)\n",
    "    rmse = keras.metrics.RootMeanSquaredError(name=\"rmse\")\n",
    "    model = tf.keras.Model(inputs=[investment_id_inputs, features_inputs], outputs=[output])\n",
    "    model.compile(optimizer=tf.optimizers.Adam(0.001), loss='mse', metrics=['mse', \"mae\", \"mape\", rmse])\n",
    "    return model"
   ]
  },
  {
   "cell_type": "code",
   "execution_count": 10,
   "metadata": {},
   "outputs": [
    {
     "name": "stdout",
     "output_type": "stream",
     "text": [
      "Model: \"model\"\n",
      "__________________________________________________________________________________________________\n",
      " Layer (type)                   Output Shape         Param #     Connected to                     \n",
      "==================================================================================================\n",
      " input_1 (InputLayer)           [(None, 1)]          0           []                               \n",
      "                                                                                                  \n",
      " integer_lookup (IntegerLookup)  (None, 1)           0           ['input_1[0][0]']                \n",
      "                                                                                                  \n",
      " embedding (Embedding)          (None, 1, 32)        114560      ['integer_lookup[0][0]']         \n",
      "                                                                                                  \n",
      " reshape (Reshape)              (None, 32)           0           ['embedding[0][0]']              \n",
      "                                                                                                  \n",
      " input_2 (InputLayer)           [(None, 300)]        0           []                               \n",
      "                                                                                                  \n",
      " dense (Dense)                  (None, 64)           2112        ['reshape[0][0]']                \n",
      "                                                                                                  \n",
      " dense_4 (Dense)                (None, 256)          77056       ['input_2[0][0]']                \n",
      "                                                                                                  \n",
      " dense_1 (Dense)                (None, 64)           4160        ['dense[0][0]']                  \n",
      "                                                                                                  \n",
      " dense_5 (Dense)                (None, 256)          65792       ['dense_4[0][0]']                \n",
      "                                                                                                  \n",
      " dense_2 (Dense)                (None, 64)           4160        ['dense_1[0][0]']                \n",
      "                                                                                                  \n",
      " dense_6 (Dense)                (None, 256)          65792       ['dense_5[0][0]']                \n",
      "                                                                                                  \n",
      " dense_3 (Dense)                (None, 64)           4160        ['dense_2[0][0]']                \n",
      "                                                                                                  \n",
      " dense_7 (Dense)                (None, 256)          65792       ['dense_6[0][0]']                \n",
      "                                                                                                  \n",
      " concatenate (Concatenate)      (None, 320)          0           ['dense_3[0][0]',                \n",
      "                                                                  'dense_7[0][0]']                \n",
      "                                                                                                  \n",
      " dense_8 (Dense)                (None, 512)          164352      ['concatenate[0][0]']            \n",
      "                                                                                                  \n",
      " dense_9 (Dense)                (None, 128)          65664       ['dense_8[0][0]']                \n",
      "                                                                                                  \n",
      " dense_10 (Dense)               (None, 32)           4128        ['dense_9[0][0]']                \n",
      "                                                                                                  \n",
      " dense_11 (Dense)               (None, 1)            33          ['dense_10[0][0]']               \n",
      "                                                                                                  \n",
      "==================================================================================================\n",
      "Total params: 637,761\n",
      "Trainable params: 637,761\n",
      "Non-trainable params: 0\n",
      "__________________________________________________________________________________________________\n",
      "You must install pydot (`pip install pydot`) and install graphviz (see instructions at https://graphviz.gitlab.io/download/) for plot_model/model_to_dot to work.\n"
     ]
    }
   ],
   "source": [
    "model = get_model()\n",
    "model.summary()\n",
    "keras.utils.plot_model(model, show_shapes=True)"
   ]
  },
  {
   "cell_type": "code",
   "execution_count": 11,
   "metadata": {},
   "outputs": [
    {
     "name": "stderr",
     "output_type": "stream",
     "text": [
      "C:\\Users\\minori11\\anaconda3\\envs\\kaggle\\lib\\site-packages\\sklearn\\model_selection\\_split.py:670: UserWarning: The least populated class in y has only 2 members, which is less than n_splits=5.\n",
      "  warnings.warn((\"The least populated class in y has only %d\"\n"
     ]
    },
    {
     "name": "stdout",
     "output_type": "stream",
     "text": [
      "Epoch 1/50\n",
      "2453/2455 [============================>.] - ETA: 0s - loss: 0.9101 - mse: 0.8312 - mae: 0.6244 - mape: 121981.2500 - rmse: 0.9117INFO:tensorflow:Assets written to: model_0\\assets\n",
      "2455/2455 [==============================] - 20s 8ms/step - loss: 0.9101 - mse: 0.8313 - mae: 0.6244 - mape: 121920.3516 - rmse: 0.9118 - val_loss: 0.8401 - val_mse: 0.8390 - val_mae: 0.6290 - val_mape: 207675.5781 - val_rmse: 0.9160\n",
      "Epoch 2/50\n",
      "2453/2455 [============================>.] - ETA: 0s - loss: 0.8307 - mse: 0.8277 - mae: 0.6232 - mape: 146934.7500 - rmse: 0.9098INFO:tensorflow:Assets written to: model_0\\assets\n",
      "2455/2455 [==============================] - 19s 8ms/step - loss: 0.8308 - mse: 0.8277 - mae: 0.6233 - mape: 146861.3750 - rmse: 0.9098 - val_loss: 0.8394 - val_mse: 0.8382 - val_mae: 0.6303 - val_mape: 173696.0000 - val_rmse: 0.9155\n",
      "Epoch 3/50\n",
      "2452/2455 [============================>.] - ETA: 0s - loss: 0.8281 - mse: 0.8253 - mae: 0.6223 - mape: 146514.1094 - rmse: 0.9085INFO:tensorflow:Assets written to: model_0\\assets\n",
      "2455/2455 [==============================] - 18s 8ms/step - loss: 0.8281 - mse: 0.8254 - mae: 0.6223 - mape: 146989.8594 - rmse: 0.9085 - val_loss: 0.8389 - val_mse: 0.8377 - val_mae: 0.6308 - val_mape: 117353.7656 - val_rmse: 0.9153\n",
      "Epoch 4/50\n",
      "2447/2455 [============================>.] - ETA: 0s - loss: 0.8265 - mse: 0.8231 - mae: 0.6215 - mape: 143998.0000 - rmse: 0.9072INFO:tensorflow:Assets written to: model_0\\assets\n",
      "2455/2455 [==============================] - 18s 7ms/step - loss: 0.8265 - mse: 0.8231 - mae: 0.6215 - mape: 144310.2656 - rmse: 0.9073 - val_loss: 0.8384 - val_mse: 0.8372 - val_mae: 0.6293 - val_mape: 151706.3906 - val_rmse: 0.9150\n",
      "Epoch 5/50\n",
      "2454/2455 [============================>.] - ETA: 0s - loss: 0.8248 - mse: 0.8209 - mae: 0.6207 - mape: 143798.0938 - rmse: 0.9060INFO:tensorflow:Assets written to: model_0\\assets\n",
      "2455/2455 [==============================] - 19s 8ms/step - loss: 0.8248 - mse: 0.8209 - mae: 0.6207 - mape: 143784.8281 - rmse: 0.9060 - val_loss: 0.8380 - val_mse: 0.8368 - val_mae: 0.6295 - val_mape: 153206.1250 - val_rmse: 0.9148\n",
      "Epoch 6/50\n",
      "2447/2455 [============================>.] - ETA: 0s - loss: 0.8231 - mse: 0.8181 - mae: 0.6196 - mape: 141486.1875 - rmse: 0.9045INFO:tensorflow:Assets written to: model_0\\assets\n",
      "2455/2455 [==============================] - 19s 8ms/step - loss: 0.8231 - mse: 0.8182 - mae: 0.6196 - mape: 141607.1094 - rmse: 0.9045 - val_loss: 0.8377 - val_mse: 0.8365 - val_mae: 0.6291 - val_mape: 152974.3750 - val_rmse: 0.9146\n",
      "Epoch 7/50\n",
      "2455/2455 [==============================] - 21s 8ms/step - loss: 0.8205 - mse: 0.8153 - mae: 0.6186 - mape: 139444.7188 - rmse: 0.9029 - val_loss: 0.8384 - val_mse: 0.8368 - val_mae: 0.6288 - val_mape: 154228.8906 - val_rmse: 0.9148\n",
      "Epoch 8/50\n",
      "2455/2455 [==============================] - 18s 7ms/step - loss: 0.8179 - mse: 0.8121 - mae: 0.6176 - mape: 142193.7188 - rmse: 0.9012 - val_loss: 0.8385 - val_mse: 0.8368 - val_mae: 0.6288 - val_mape: 149258.2188 - val_rmse: 0.9148\n",
      "Epoch 9/50\n",
      "2455/2455 [==============================] - 17s 7ms/step - loss: 0.8140 - mse: 0.8080 - mae: 0.6163 - mape: 148183.2188 - rmse: 0.8989 - val_loss: 0.8394 - val_mse: 0.8375 - val_mae: 0.6291 - val_mape: 149937.3281 - val_rmse: 0.9152\n",
      "Epoch 10/50\n",
      "2455/2455 [==============================] - 17s 7ms/step - loss: 0.8104 - mse: 0.8037 - mae: 0.6149 - mape: 151320.1094 - rmse: 0.8965 - val_loss: 0.8407 - val_mse: 0.8382 - val_mae: 0.6290 - val_mape: 160640.6719 - val_rmse: 0.9156\n",
      "Epoch 11/50\n",
      "2455/2455 [==============================] - 16s 7ms/step - loss: 0.8071 - mse: 0.7999 - mae: 0.6139 - mape: 162679.0000 - rmse: 0.8944 - val_loss: 0.8421 - val_mse: 0.8396 - val_mae: 0.6299 - val_mape: 166735.5156 - val_rmse: 0.9163\n",
      "Epoch 12/50\n",
      "2455/2455 [==============================] - 17s 7ms/step - loss: 0.8028 - mse: 0.7958 - mae: 0.6128 - mape: 160670.9688 - rmse: 0.8921 - val_loss: 0.8438 - val_mse: 0.8405 - val_mae: 0.6308 - val_mape: 161620.2188 - val_rmse: 0.9168\n",
      "Epoch 13/50\n",
      "2455/2455 [==============================] - 17s 7ms/step - loss: 0.7985 - mse: 0.7911 - mae: 0.6115 - mape: 170493.7031 - rmse: 0.8894 - val_loss: 0.8450 - val_mse: 0.8419 - val_mae: 0.6305 - val_mape: 162288.2188 - val_rmse: 0.9175\n",
      "Epoch 14/50\n",
      "2455/2455 [==============================] - 16s 7ms/step - loss: 0.7937 - mse: 0.7857 - mae: 0.6100 - mape: 175146.7344 - rmse: 0.8864 - val_loss: 0.8452 - val_mse: 0.8419 - val_mae: 0.6307 - val_mape: 163116.8750 - val_rmse: 0.9176\n",
      "Epoch 15/50\n",
      "2455/2455 [==============================] - 18s 8ms/step - loss: 0.7886 - mse: 0.7802 - mae: 0.6085 - mape: 177991.2188 - rmse: 0.8833 - val_loss: 0.8475 - val_mse: 0.8432 - val_mae: 0.6309 - val_mape: 178702.2812 - val_rmse: 0.9183\n",
      "Epoch 16/50\n",
      "2455/2455 [==============================] - 16s 7ms/step - loss: 0.7839 - mse: 0.7749 - mae: 0.6071 - mape: 191461.4375 - rmse: 0.8803 - val_loss: 0.8512 - val_mse: 0.8475 - val_mae: 0.6322 - val_mape: 189953.5469 - val_rmse: 0.9206\n",
      "Pearson: 0.12276591127277668\n"
     ]
    },
    {
     "data": {
      "image/png": "[encoded data removed]",
      "text/plain": [
       "<Figure size 432x288 with 1 Axes>"
      ]
     },
     "metadata": {
      "needs_background": "light"
     },
     "output_type": "display_data"
    },
    {
     "data": {
      "image/png": "[encoded data removed]",
      "text/plain": [
       "<Figure size 432x288 with 1 Axes>"
      ]
     },
     "metadata": {
      "needs_background": "light"
     },
     "output_type": "display_data"
    },
    {
     "data": {
      "image/png": "[encoded data removed]",
      "text/plain": [
       "<Figure size 432x288 with 1 Axes>"
      ]
     },
     "metadata": {
      "needs_background": "light"
     },
     "output_type": "display_data"
    }
   ],
   "source": [
    "from sklearn.model_selection import StratifiedKFold\n",
    "kfold = StratifiedKFold(5, shuffle=True, random_state=42)\n",
    "models = []\n",
    "for index, (train_indices, valid_indices) in enumerate(kfold.split(train, investment_id)):\n",
    "    X_train, X_val = train.iloc[train_indices], train.iloc[valid_indices]\n",
    "    investment_id_train = investment_id[train_indices]\n",
    "    y_train, y_val = y.iloc[train_indices], y.iloc[valid_indices]\n",
    "    investment_id_val = investment_id[valid_indices]\n",
    "    train_ds = make_dataset(X_train, investment_id_train, y_train)\n",
    "    valid_ds = make_dataset(X_val, investment_id_val, y_val, mode=\"valid\")\n",
    "    model = get_model()\n",
    "    checkpoint = keras.callbacks.ModelCheckpoint(f\"model_{index}\", save_best_only=True)\n",
    "    early_stop = keras.callbacks.EarlyStopping(patience=10)\n",
    "    history = model.fit(train_ds, epochs=50, validation_data=valid_ds, callbacks=[checkpoint, early_stop])\n",
    "    model = keras.models.load_model(f\"model_{index}\")\n",
    "    models.append(model)\n",
    "    \n",
    "    pearson_score = stats.pearsonr(model.predict(valid_ds).ravel(), y_val.values)[0]\n",
    "    print('Pearson:', pearson_score)\n",
    "    pd.DataFrame(history.history, columns=[\"mse\", \"val_mse\"]).plot()\n",
    "    plt.title(\"MSE\")\n",
    "    plt.show()\n",
    "    pd.DataFrame(history.history, columns=[\"mae\", \"val_mae\"]).plot()\n",
    "    plt.title(\"MAE\")\n",
    "    plt.show()\n",
    "    pd.DataFrame(history.history, columns=[\"rmse\", \"val_rmse\"]).plot()\n",
    "    plt.title(\"RMSE\")\n",
    "    plt.show()\n",
    "    del investment_id_train\n",
    "    del investment_id_val\n",
    "    del X_train\n",
    "    del X_val\n",
    "    del y_train\n",
    "    del y_val\n",
    "    del train_ds\n",
    "    del valid_ds\n",
    "    gc.collect()\n",
    "    break"
   ]
  },
  {
   "cell_type": "code",
   "execution_count": 12,
   "metadata": {},
   "outputs": [],
   "source": [
    "def preprocess_test(investment_id, feature):\n",
    "    return (investment_id, feature), 0\n",
    "def make_test_dataset(feature, investment_id, batch_size=1024):\n",
    "    ds = tf.data.Dataset.from_tensor_slices(((investment_id, feature)))\n",
    "    ds = ds.map(preprocess_test)\n",
    "    ds = ds.batch(batch_size).cache().prefetch(tf.data.experimental.AUTOTUNE)\n",
    "    return ds\n",
    "def inference(models, ds):\n",
    "    y_preds = []\n",
    "    for model in models:\n",
    "        y_pred = model.predict(ds)\n",
    "        y_preds.append(y_pred)\n",
    "    return np.mean(y_preds, axis=0)"
   ]
  },
  {
   "cell_type": "code",
   "execution_count": null,
   "metadata": {},
   "outputs": [],
   "source": []
  }
 ],
 "metadata": {
  "interpreter": {
   "hash": "f436cdb28f556d638768226e88df829b306d6cce33caefeb33828bb6037ec961"
  },
  "kernelspec": {
   "display_name": "Python 3.8.12 ('kaggle')",
   "language": "python",
   "name": "python3"
  },
  "language_info": {
   "codemirror_mode": {
    "name": "ipython",
    "version": 3
   },
   "file_extension": ".py",
   "mimetype": "text/x-python",
   "name": "python",
   "nbconvert_exporter": "python",
   "pygments_lexer": "ipython3",
   "version": "3.8.12"
  },
  "orig_nbformat": 4
 },
 "nbformat": 4,
 "nbformat_minor": 2
}
